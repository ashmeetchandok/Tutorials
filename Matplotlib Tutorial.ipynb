{
 "cells": [
  {
   "cell_type": "markdown",
   "metadata": {},
   "source": [
    "# Matplotlib\n",
    "\n",
    "### A python library designed for data visualization using 2D graphs."
   ]
  },
  {
   "cell_type": "markdown",
   "metadata": {},
   "source": [
    "## Line Graphs"
   ]
  },
  {
   "cell_type": "markdown",
   "metadata": {},
   "source": [
    "##### To use the library\n",
    "\n",
    "```from matplotlib import pyplot as plt```"
   ]
  },
  {
   "cell_type": "markdown",
   "metadata": {},
   "source": [
    "### Basic Commands\n",
    "\n",
    "#### Plotting the graph\n",
    "```\n",
    "    plt.plot(x,y)\n",
    "```\n",
    "-----------------------------\n",
    "\n",
    "#### Displaying the graph\n",
    "```\n",
    "    plt.show()\n",
    "```\n"
   ]
  },
  {
   "cell_type": "code",
   "execution_count": 1,
   "metadata": {},
   "outputs": [
    {
     "data": {
      "text/plain": [
       "<Figure size 640x480 with 1 Axes>"
      ]
     },
     "metadata": {},
     "output_type": "display_data"
    }
   ],
   "source": [
    "from matplotlib import pyplot as plt\n",
    "plt.plot([4,5,6],[4,5,7])\n",
    "plt.show()"
   ]
  },
  {
   "cell_type": "markdown",
   "metadata": {},
   "source": [
    "### Adding Details to the graph\n",
    "\n",
    "#### Title of the graph\n",
    "```\n",
    "    plt.title(\" \")\n",
    "```\n",
    "-----------------\n",
    "\n",
    "#### X Axis Label\n",
    "```\n",
    "    plt.xlabel(\" \")\n",
    "```\n",
    "--------\n",
    "\n",
    "#### Y Axis Label\n",
    "```\n",
    "    plt.ylabel(\" \")\n",
    "```"
   ]
  },
  {
   "cell_type": "code",
   "execution_count": 2,
   "metadata": {},
   "outputs": [
    {
     "data": {
      "image/png": "[encoded data removed]",
      "text/plain": [
       "<Figure size 432x288 with 1 Axes>"
      ]
     },
     "metadata": {
      "needs_background": "light"
     },
     "output_type": "display_data"
    }
   ],
   "source": [
    "x = [1,4,5]\n",
    "y = [6,7,1]\n",
    "\n",
    "plt.title(\"Beginners Guide\")\n",
    "plt.plot(x,y)\n",
    "plt.xlabel(\"X axis values\")\n",
    "plt.ylabel(\"Y axis values\")\n",
    "\n",
    "plt.show()"
   ]
  },
  {
   "attachments": {},
   "cell_type": "markdown",
   "metadata": {},
   "source": [
    "### Adding Style and Some useful Commands\n",
    "\n",
    "#### Graph Style\n",
    "eg: ggplot, fast, classic, grayscale etc\n",
    "\n",
    "```\n",
    "    style.use('')\n",
    "```\n",
    "-------------\n",
    "\n",
    "#### Legend\n",
    "loc = best/upper left/right/lower right \n",
    "default = best\n",
    "```\n",
    "    plt.legend(loc='')\n",
    "```\n",
    "----------------\n",
    "#### Adding Grid\n",
    "\n",
    "```\n",
    "    plt.grid(True)\n",
    "```\n",
    "-----------------\n",
    "\n",
    "#### Setting Axis Limits\n",
    "\n",
    "```\n",
    "    plt.axis(xmin,xmax,ymin,ymax)\n",
    "```\n"
   ]
  },
  {
   "cell_type": "code",
   "execution_count": 4,
   "metadata": {},
   "outputs": [
    {
     "data": {
      "image/png": "[encoded data removed]",
      "text/plain": [
       "<Figure size 432x288 with 1 Axes>"
      ]
     },
     "metadata": {},
     "output_type": "display_data"
    }
   ],
   "source": [
    "from matplotlib import style\n",
    "x = [4,7,10]\n",
    "y = [8,14,20]\n",
    "\n",
    "style.use('ggplot')\n",
    "plt.title(\"Cool Graph\")\n",
    "\n",
    "plt.plot(x,y, linewidth=5)\n",
    "\n",
    "plt.xlabel(\"X axis\")\n",
    "plt.ylabel(\"Y axis\")\n",
    "\n",
    "\n",
    "plt.grid(True)\n",
    "\n",
    "plt.show()"
   ]
  },
  {
   "cell_type": "markdown",
   "metadata": {},
   "source": [
    "--------------------\n",
    "\n",
    "## Bar Graphs"
   ]
  },
  {
   "attachments": {},
   "cell_type": "markdown",
   "metadata": {},
   "source": [
    "### Plot a bar graph\n",
    "\n",
    "Arguments that can be passed\n",
    "    1. labels \tlist of labels \n",
    "    2. sizes \tportion of each label is defined using another list \n",
    "    3. explode  used to set the fraction of radius with which we offset each wedge from center of the pie \n",
    "    4. shadow \tTrue / false \n",
    "    5. colors\tlist of colors for each label \n",
    "    6. Startangle – rotates the start of  pie chart by given degrees counter clock wise \n",
    "```\n",
    "COMMAND\n",
    "    plt.bar(x,y)\n",
    "```\n",
    "\n",
    "\n"
   ]
  },
  {
   "cell_type": "code",
   "execution_count": null,
   "metadata": {},
   "outputs": [],
   "source": [
    "x = [4,5,7,5]\n",
    "y = [10,20,30,40]\n",
    "\n",
    "plt.bar(x,y)"
   ]
  },
  {
   "cell_type": "code",
   "execution_count": null,
   "metadata": {},
   "outputs": [],
   "source": [
    "import numpy as np\n",
    "labels = [\"Baseline\", \"System\"]\n",
    "data =   [3.75, 4.75]\n",
    "\n",
    "xlocations = np.array(range(len(data)))+2\n",
    "\n",
    "Plt.bar(xlocations, data, color='b',width=0.5)\n",
    "\n",
    "Plt.yticks(range(0, 8))\n",
    "Plt.xticks(xlocations, labels)\n",
    "\n",
    "Plt.title(\"Average Ratings on the Training Set\")\n",
    "Plt.xlabel('type')\n",
    "Plt.ylabel('error')\n",
    "Plt.show()"
   ]
  },
  {
   "cell_type": "markdown",
   "metadata": {},
   "source": [
    "-------------\n",
    "\n",
    "## Pie Chart"
   ]
  },
  {
   "attachments": {},
   "cell_type": "markdown",
   "metadata": {},
   "source": [
    "### Plot a pie chart\n",
    "\n",
    "Arguments that can be passed\n",
    "\n",
    "    1. labels \tlist of labels \n",
    "    2. sizes \tportion of each label is defined using another list \n",
    "    3. Other optional arguments are -\n",
    "    4. explode –used to set the fraction of radius with which we offset each wedge from center of the pie \n",
    "    5. shadow \tTrue / false \n",
    "    6. colors\tlist of colors for each label \n",
    "    7. Startangle – rotates the start of  pie chart by given degrees counter clock wise \n",
    "\n",
    "```\n",
    "COMMAND\n",
    "    plt.pie()\n",
    "```\n"
   ]
  },
  {
   "cell_type": "code",
   "execution_count": null,
   "metadata": {},
   "outputs": [],
   "source": [
    "languages = [\"Java\",\"C++\",\"Python\",\"Ruby\",\"C\"]\n",
    "Sizes=[15.7,13.6,7.2,5.8,5.3]\n",
    "colours=['c','y','b','g','r']\n",
    "Plt.pie(Sizes,labels=languages, colors=colours, startangle=0, shadow=True)\n",
    "Plt.title(\"Computer Languages\")\n",
    "Plt.legend(loc='best')\n",
    "Plt.show()"
   ]
  },
  {
   "cell_type": "code",
   "execution_count": null,
   "metadata": {},
   "outputs": [],
   "source": []
  }
 ],
 "metadata": {
  "kernelspec": {
   "display_name": "Python 3",
   "language": "python",
   "name": "python3"
  },
  "language_info": {
   "codemirror_mode": {
    "name": "ipython",
    "version": 3
   },
   "file_extension": ".py",
   "mimetype": "text/x-python",
   "name": "python",
   "nbconvert_exporter": "python",
   "pygments_lexer": "ipython3",
   "version": "3.7.3"
  }
 },
 "nbformat": 4,
 "nbformat_minor": 2
}
